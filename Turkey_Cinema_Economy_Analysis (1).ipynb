{
 "cells": [
  {
   "cell_type": "markdown",
   "id": "cb8aea83",
   "metadata": {},
   "source": [
    "# 🎬 Movie Theater Attendance vs Economic Conditions in Turkey"
   ]
  },
  {
   "cell_type": "markdown",
   "id": "80d0c4cd",
   "metadata": {},
   "source": [
    "In this project, we analyze how macroeconomic indicators like GDP and inflation affect movie theater attendance in Turkey.\n",
    "We test whether economic prosperity correlates with higher cinema attendance, while economic hardship causes a decline.\n"
   ]
  },
  {
   "cell_type": "code",
   "execution_count": null,
   "id": "f4df1f30",
   "metadata": {},
   "outputs": [],
   "source": [
    "import pandas as pd\n",
    "import matplotlib.pyplot as plt\n",
    "import seaborn as sns\n",
    "from sklearn.linear_model import LinearRegression\n",
    "from sklearn.preprocessing import StandardScaler\n",
    "from sklearn.metrics import mean_squared_error, r2_score\n",
    "from scipy.stats import pearsonr\n",
    "\n",
    "# Load Data\n",
    "df = pd.read_csv(\"final_cinema_economic_data.csv\")\n"
   ]
  },
  {
   "cell_type": "code",
   "execution_count": null,
   "id": "04b1fd40",
   "metadata": {},
   "outputs": [],
   "source": [
    "# Total Audience Over Time\n",
    "plt.figure(figsize=(10,6))\n",
    "plt.plot(df[\"Year\"], df[\"TotalAudience\"], marker='o')\n",
    "plt.title(\"Total Movie Audience Over Time\")\n",
    "plt.xlabel(\"Year\")\n",
    "plt.ylabel(\"Audience Count\")\n",
    "plt.grid()\n",
    "plt.show()\n"
   ]
  },
  {
   "cell_type": "code",
   "execution_count": null,
   "id": "71e8f649",
   "metadata": {},
   "outputs": [],
   "source": [
    "# Inflation Rate Over Time\n",
    "plt.figure(figsize=(10,6))\n",
    "plt.plot(df[\"Year\"], df[\"InflationRate\"], marker='s', color=\"orange\")\n",
    "plt.title(\"Inflation Rate Over Time\")\n",
    "plt.xlabel(\"Year\")\n",
    "plt.ylabel(\"Inflation Rate (%)\")\n",
    "plt.grid()\n",
    "plt.show()\n"
   ]
  },
  {
   "cell_type": "code",
   "execution_count": null,
   "id": "4e33b795",
   "metadata": {},
   "outputs": [],
   "source": [
    "# GDP Over Time\n",
    "plt.figure(figsize=(10,6))\n",
    "plt.plot(df[\"Year\"], df[\"GDP\"], marker='^', color=\"green\")\n",
    "plt.title(\"Turkey GDP Over Time\")\n",
    "plt.xlabel(\"Year\")\n",
    "plt.ylabel(\"GDP (Current US$)\")\n",
    "plt.grid()\n",
    "plt.show()\n"
   ]
  },
  {
   "cell_type": "code",
   "execution_count": null,
   "id": "5e06f765",
   "metadata": {},
   "outputs": [],
   "source": [
    "# GDP vs Audience\n",
    "sns.scatterplot(x=\"GDP\", y=\"TotalAudience\", data=df)\n",
    "plt.title(\"GDP vs Total Movie Audience\")\n",
    "plt.xlabel(\"GDP (Current US$)\")\n",
    "plt.ylabel(\"Audience Count\")\n",
    "plt.grid()\n",
    "plt.show()\n"
   ]
  },
  {
   "cell_type": "code",
   "execution_count": null,
   "id": "ffb46fce",
   "metadata": {},
   "outputs": [],
   "source": [
    "# Inflation vs Audience\n",
    "sns.scatterplot(x=\"InflationRate\", y=\"TotalAudience\", data=df)\n",
    "plt.title(\"Inflation Rate vs Audience\")\n",
    "plt.xlabel(\"Inflation Rate (%)\")\n",
    "plt.ylabel(\"Audience Count\")\n",
    "plt.grid()\n",
    "plt.show()\n"
   ]
  },
  {
   "cell_type": "code",
   "execution_count": null,
   "id": "0d0d1206",
   "metadata": {},
   "outputs": [],
   "source": [
    "# Clean inflation format\n",
    "df[\"InflationRate\"] = df[\"InflationRate\"].astype(str).str.replace(\",\", \".\")\n",
    "df[\"InflationRate\"] = pd.to_numeric(df[\"InflationRate\"], errors=\"coerce\")\n",
    "\n",
    "# Correlation Test\n",
    "corr, p_val = pearsonr(df[\"GDP\"].dropna(), df[\"TotalAudience\"].dropna())\n",
    "print(f\"GDP-Audience Correlation: {corr:.3f}\")\n",
    "print(f\"P-value: {p_val:.4f}\")\n"
   ]
  },
  {
   "cell_type": "code",
   "execution_count": null,
   "id": "6f8c151f",
   "metadata": {},
   "outputs": [],
   "source": [
    "features = df[[\"GDP\", \"InflationRate\"]].dropna()\n",
    "target = df.loc[features.index, \"TotalAudience\"]\n",
    "\n",
    "scaler = StandardScaler()\n",
    "X_scaled = scaler.fit_transform(features)\n",
    "\n",
    "model = LinearRegression()\n",
    "model.fit(X_scaled, target)\n",
    "predictions = model.predict(X_scaled)\n",
    "\n",
    "rmse = mean_squared_error(target, predictions, squared=False)\n",
    "r2 = r2_score(target, predictions)\n",
    "\n",
    "print(f\"RMSE: {rmse:.2f}\")\n",
    "print(f\"R^2 Score: {r2:.3f}\")\n"
   ]
  },
  {
   "cell_type": "code",
   "execution_count": null,
   "id": "3317b31d",
   "metadata": {},
   "outputs": [],
   "source": [
    "plt.plot(df[\"Year\"].iloc[features.index], target, label=\"Actual\")\n",
    "plt.plot(df[\"Year\"].iloc[features.index], predictions, label=\"Predicted\", linestyle=\"--\")\n",
    "plt.title(\"Actual vs Predicted Movie Attendance\")\n",
    "plt.xlabel(\"Year\")\n",
    "plt.ylabel(\"Audience Count\")\n",
    "plt.legend()\n",
    "plt.grid()\n",
    "plt.show()\n"
   ]
  },
  {
   "cell_type": "markdown",
   "id": "0abcc4c9",
   "metadata": {},
   "source": [
    "### 📌 Conclusion\n",
    "\n",
    "- The **GDP-Audience correlation was 0.626** with a **p-value of 0.0011**, indicating a significant positive relationship.\n",
    "- The **linear regression model yielded an R² score of 0.392**, showing moderate predictive power.\n",
    "- These findings suggest that economic growth is associated with higher movie theater attendance.\n",
    "- The model may be improved by including more variables such as consumer confidence, exchange rate, or tourism statistics.\n"
   ]
  }
 ],
 "metadata": {},
 "nbformat": 4,
 "nbformat_minor": 5
}
